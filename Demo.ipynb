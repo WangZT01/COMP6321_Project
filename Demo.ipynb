{
 "cells": [
  {
   "cell_type": "markdown",
   "source": [
    "COMP6321_Project\n",
    "\n",
    "This textbook is for show the result of the project.\n",
    "\n",
    "Environment:\n",
    "\n",
    "Python: 3.8.12, scikit-learn: 1.0.2, Pytorch: 1.11.0"
   ],
   "metadata": {
    "collapsed": false,
    "pycharm": {
     "name": "#%% md\n"
    }
   }
  },
  {
   "cell_type": "raw",
   "source": [
    "First, load the essential packages.\n"
   ],
   "metadata": {
    "collapsed": false
   }
  }
 ],
 "metadata": {
  "kernelspec": {
   "name": "pycharm-dfe0ed15",
   "language": "python",
   "display_name": "PyCharm (COMP6321_Project)"
  },
  "language_info": {
   "codemirror_mode": {
    "name": "ipython",
    "version": 2
   },
   "file_extension": ".py",
   "mimetype": "text/x-python",
   "name": "python",
   "nbconvert_exporter": "python",
   "pygments_lexer": "ipython2",
   "version": "2.7.6"
  }
 },
 "nbformat": 4,
 "nbformat_minor": 0
}